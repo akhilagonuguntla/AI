{
  "nbformat": 4,
  "nbformat_minor": 0,
  "metadata": {
    "colab": {
      "provenance": []
    },
    "kernelspec": {
      "name": "python3",
      "display_name": "Python 3"
    },
    "language_info": {
      "name": "python"
    }
  },
  "cells": [
    {
      "cell_type": "code",
      "source": [
        "pip install  owlready2 # importing the required module"
      ],
      "metadata": {
        "colab": {
          "base_uri": "https://localhost:8080/"
        },
        "id": "wzgzjuHEgiEQ",
        "outputId": "bbd53407-c394-413a-b7d3-8353d4bc6c5c"
      },
      "execution_count": 4,
      "outputs": [
        {
          "output_type": "stream",
          "name": "stdout",
          "text": [
            "Collecting owlready2\n",
            "  Downloading owlready2-0.47.tar.gz (27.3 MB)\n",
            "\u001b[2K     \u001b[90m━━━━━━━━━━━━━━━━━━━━━━━━━━━━━━━━━━━━━━━━\u001b[0m \u001b[32m27.3/27.3 MB\u001b[0m \u001b[31m37.5 MB/s\u001b[0m eta \u001b[36m0:00:00\u001b[0m\n",
            "\u001b[?25h  Installing build dependencies ... \u001b[?25l\u001b[?25hdone\n",
            "  Getting requirements to build wheel ... \u001b[?25l\u001b[?25hdone\n",
            "  Preparing metadata (pyproject.toml) ... \u001b[?25l\u001b[?25hdone\n",
            "Building wheels for collected packages: owlready2\n",
            "  Building wheel for owlready2 (pyproject.toml) ... \u001b[?25l\u001b[?25hdone\n",
            "  Created wheel for owlready2: filename=owlready2-0.47-cp310-cp310-linux_x86_64.whl size=24075202 sha256=b02e56c3c7e440490863913ff87228b0e323421beb5e0f973a67d5c311546c29\n",
            "  Stored in directory: /root/.cache/pip/wheels/27/3e/ba/4171c4b10bba9fe1774fbf8fcf794de889e636ce64ad83a533\n",
            "Successfully built owlready2\n",
            "Installing collected packages: owlready2\n",
            "Successfully installed owlready2-0.47\n"
          ]
        }
      ]
    },
    {
      "cell_type": "code",
      "execution_count": 42,
      "metadata": {
        "id": "jiXYQAZTgOHm"
      },
      "outputs": [],
      "source": [
        "from owlready2 import get_ontology, Thing, DataProperty\n",
        "from tabulate import tabulate  # For the  tabular display of the outputs\n",
        "import math  # For the mathematical calculations\n",
        "import uuid  # For the unique instance IDs"
      ]
    },
    {
      "cell_type": "code",
      "source": [
        "# Loading the ontology file\n",
        "ontology_path = \"/content/IntelligentTutoringSystem.rdf\"  # Path to the specific ontology file\n",
        "ontology = get_ontology(ontology_path).load()\n",
        "print(\"Ontology successfully loaded! Ready to enrich the knowledge base.\")"
      ],
      "metadata": {
        "colab": {
          "base_uri": "https://localhost:8080/"
        },
        "id": "hgBZp4g0gYSm",
        "outputId": "a2385a55-2cd1-4f2e-c04d-e934ba3a8de2"
      },
      "execution_count": 43,
      "outputs": [
        {
          "output_type": "stream",
          "name": "stdout",
          "text": [
            "Ontology successfully loaded! Ready to enrich the knowledge base.\n"
          ]
        }
      ]
    },
    {
      "cell_type": "code",
      "source": [
        "# Defining the classes and properties dynamically within the ontology\n",
        "with ontology:\n",
        "    class GeometricShape(Thing):\n",
        "        \"\"\"Base class for all geometric shapes.\"\"\"\n",
        "        pass\n",
        "    class Rectangle(GeometricShape):\n",
        "        \"\"\"Represents a rectangle.\"\"\"\n",
        "        pass\n",
        "    class Circle(GeometricShape):\n",
        "        \"\"\"Represents a circle.\"\"\"\n",
        "        pass\n",
        "    class Triangle(GeometricShape):\n",
        "        \"\"\"Represents a triangle.\"\"\"\n",
        "        pass\n",
        "    # Data properties\n",
        "    class has_length(DataProperty):\n",
        "        \"\"\"Length of a rectangle.\"\"\"\n",
        "        range = [float]\n",
        "    class has_width(DataProperty):\n",
        "        \"\"\"Width of a rectangle.\"\"\"\n",
        "        range = [float]\n",
        "    class has_radius(DataProperty):\n",
        "        \"\"\"Radius of a circle.\"\"\"\n",
        "        range = [float]\n",
        "    class has_base(DataProperty):\n",
        "        \"\"\"Base of a triangle.\"\"\"\n",
        "        range = [float]\n",
        "    class has_height(DataProperty):\n",
        "        \"\"\"Height of a triangle.\"\"\"\n",
        "        range = [float]\n",
        "# Saving the ontology after defining the classes and properties\n",
        "ontology.save(file=\"Enhanced_IntelligentTutoringSystem.rdf\", format=\"rdfxml\")\n",
        "print(\"Ontology enriched with the classes and properties.\")\n",
        "# Function for displaying the main menu and prompt user for choices\n",
        "def display_menu():\n",
        "    \"\"\"Displays the main menu.\"\"\"\n",
        "    print(\"\\n===========================\")\n",
        "    print(\" Intelligent Tutoring System\")\n",
        "    print(\"===========================\")\n",
        "    print(\"Choose a shape to calculate its area:\")\n",
        "    print(\"a. Rectangle\")\n",
        "    print(\"b. Triangle\")\n",
        "    print(\"c. Circle\")\n",
        "    print(\"d. Show Ontology Instances\")\n",
        "    print(\"e. Exit\")\n",
        "# Function for evaluating the area for different shapes\n",
        "def calculate_area():\n",
        "    \"\"\"Main logic for handling user choices and calculating areas.\"\"\"\n",
        "    while True:\n",
        "        display_menu()\n",
        "        choice = input(\"\\Provide your choice (a-e): \").strip()\n",
        "        # Managing the user's choice\n",
        "        if choice == \"a\":\n",
        "            # Rectangle area calculation\n",
        "            length = float(input(\"Provide the length of the rectangle: \"))\n",
        "            width = float(input(\"Provide the width of the rectangle: \"))\n",
        "            instance_id = f\"rectangle_{uuid.uuid4().hex}\"  # Generating the unique ID\n",
        "            rectangle = ontology.Rectangle(instance_id)\n",
        "            rectangle.has_length.append(length)\n",
        "            rectangle.has_width.append(width)\n",
        "            area = length * width\n",
        "            print(f\"\\nArea of the rectangle: {area:.2f} square units\")\n",
        "        elif choice == \"b\":\n",
        "            # Triangle area calculation\n",
        "            base = float(input(\"Provide the base of the triangle: \"))\n",
        "            height = float(input(\"Provide the height of the triangle: \"))\n",
        "            instance_id = f\"triangle_{uuid.uuid4().hex}\"  # Generating the unique ID\n",
        "            triangle = ontology.Triangle(instance_id)\n",
        "            triangle.has_base.append(base)\n",
        "            triangle.has_height.append(height)\n",
        "            area = 0.5 * base * height\n",
        "            print(f\"\\nArea of the triangle: {area:.2f} square units\")\n",
        "        elif choice == \"c\":\n",
        "            # Circle area calculation\n",
        "            radius = float(input(\"Provide the radius of the circle: \"))\n",
        "            instance_id = f\"circle_{uuid.uuid4().hex}\"  # Generating unique ID\n",
        "            circle = ontology.Circle(instance_id)\n",
        "            circle.has_radius.append(radius)\n",
        "            area = math.pi * radius**2\n",
        "            print(f\"\\nArea of the circle: {area:.2f} square units\")\n",
        "        elif choice == \"d\":\n",
        "            # Displaying the ontology instances\n",
        "            instances = [[ind.name, ind.is_a[0].name] for ind in ontology.individuals()]\n",
        "            if instances:\n",
        "                print(\"\\nExisting Instances in the Ontology:\")\n",
        "                print(tabulate(instances, headers=[\"Instance Name\", \"Class\"]))\n",
        "            else:\n",
        "                print(\"\\nNo instances currently exist in the ontology.\")\n",
        "        elif choice == \"e\":\n",
        "            # Exit the program\n",
        "            print(\"\\nThank you for using the Intelligent Tutoring System. Goodbye!\")\n",
        "            break\n",
        "        else:\n",
        "            print(\"\\nInvalid choice. Please provide a character between a and e.\")\n",
        "        # Saving the ontology updates after every operation\n",
        "        ontology.save(file=\"Enhanced_IntelligentTutoringSystem.rdf\", format=\"rdfxml\")\n",
        "        print(\"\\nOntology has been updated with new instances.\")\n",
        "# Running the ITS if executed as the main program\n",
        "if __name__ == \"__main__\":\n",
        "    calculate_area()\n",
        "    print(\"\\nFinal instances stored in the ontology:\")\n",
        "    for individual in ontology.individuals():\n",
        "        print(f\"- {individual}\")"
      ],
      "metadata": {
        "colab": {
          "base_uri": "https://localhost:8080/"
        },
        "id": "ajbj1QjVg2pT",
        "outputId": "e5954d04-1b11-414b-f2f5-c361c720cc59"
      },
      "execution_count": 46,
      "outputs": [
        {
          "output_type": "stream",
          "name": "stdout",
          "text": [
            "Ontology enriched with the classes and properties.\n",
            "\n",
            "===========================\n",
            " Intelligent Tutoring System\n",
            "===========================\n",
            "Choose a shape to calculate its area:\n",
            "a. Rectangle\n",
            "b. Triangle\n",
            "c. Circle\n",
            "d. Show Ontology Instances\n",
            "e. Exit\n",
            "\\Provide your choice (a-e): a\n",
            "Provide the length of the rectangle: 5\n",
            "Provide the width of the rectangle: 4\n",
            "\n",
            "Area of the rectangle: 20.00 square units\n",
            "\n",
            "Ontology has been updated with new instances.\n",
            "\n",
            "===========================\n",
            " Intelligent Tutoring System\n",
            "===========================\n",
            "Choose a shape to calculate its area:\n",
            "a. Rectangle\n",
            "b. Triangle\n",
            "c. Circle\n",
            "d. Show Ontology Instances\n",
            "e. Exit\n",
            "\\Provide your choice (a-e): 9\n",
            "\n",
            "Invalid choice. Please provide a character between a and e.\n",
            "\n",
            "Ontology has been updated with new instances.\n",
            "\n",
            "===========================\n",
            " Intelligent Tutoring System\n",
            "===========================\n",
            "Choose a shape to calculate its area:\n",
            "a. Rectangle\n",
            "b. Triangle\n",
            "c. Circle\n",
            "d. Show Ontology Instances\n",
            "e. Exit\n",
            "\\Provide your choice (a-e): e\n",
            "\n",
            "Thank you for using the Intelligent Tutoring System. Goodbye!\n",
            "\n",
            "Final instances stored in the ontology:\n",
            "- IntelligentTutoringSystem.Score1\n",
            "- IntelligentTutoringSystem.User1\n",
            "- IntelligentTutoringSystem.triangle_7.0_19.0\n",
            "- IntelligentTutoringSystem.circle_2.0\n",
            "- IntelligentTutoringSystem.triangle_45.0_3.0\n",
            "- IntelligentTutoringSystem.Triangle_5.0_6.0\n",
            "- IntelligentTutoringSystem.triangle_153b3af127f9439bab7360d92f77c60a\n",
            "- IntelligentTutoringSystem.circle_3d1fe77de2bb43fab842d27dd8fe82d6\n",
            "- IntelligentTutoringSystem.triangle_f07686f090854b7299f311969990a8cf\n",
            "- IntelligentTutoringSystem.rectangle_39d3d5ba497d4466af572290792bc1a8\n",
            "- IntelligentTutoringSystem.circle_8c1e18573d764ff8a66befdb9467bfa7\n",
            "- IntelligentTutoringSystem.triangle_875d3aefe26c4f52b296130892df9af5\n",
            "- IntelligentTutoringSystem.rectangle_a82abd3ee03c4030a64a4b7f0067c0f2\n"
          ]
        }
      ]
    },
    {
      "cell_type": "code",
      "source": [],
      "metadata": {
        "id": "G3rFbuIuhB8q"
      },
      "execution_count": null,
      "outputs": []
    }
  ]
}